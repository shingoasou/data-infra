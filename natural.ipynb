{
 "cells": [
  {
   "cell_type": "code",
   "execution_count": 1,
   "metadata": {},
   "outputs": [],
   "source": [
    "from summpy.summpy.lexrank import summarize"
   ]
  },
  {
   "cell_type": "code",
   "execution_count": 2,
   "metadata": {},
   "outputs": [],
   "source": [
    "text = \"\"\"\n",
    "■ 商品の説明\n",
    "■ 内容紹介\n",
    "私はわたしだ！！！！名前はまだない！！\n",
    "\n",
    "■著者プロフィール\n",
    "株式会社hoge oshin-drone\n",
    "10月最後ですが、夜遅くまでブロックチェーンの勉強ご苦労！！\n",
    "現在、Ethereum上のプライベートネットワークの構築、アカウント作成、採掘のテストを実行中\n",
    "明日Solidityでスマートコンストラクタを実装したい\n",
    "\n",
    "文章要約されない...\n",
    "もうすこし長い文が必要かもしれない...\n",
    "\"\"\""
   ]
  },
  {
   "cell_type": "code",
   "execution_count": 3,
   "metadata": {},
   "outputs": [
    {
     "data": {
      "text/plain": [
       "['\\n', '明日Solidityでスマートコンストラクタを実装したい\\n\\n', '文章要約されない...\\n']"
      ]
     },
     "execution_count": 3,
     "metadata": {},
     "output_type": "execute_result"
    }
   ],
   "source": [
    "# 文章要約\n",
    "sentences, debug_info = summarize(\n",
    "    text, sent_limit=3, continuous=True, debug=True\n",
    ")\n",
    "\n",
    "# 要約した結果\n",
    "sentences"
   ]
  },
  {
   "cell_type": "code",
   "execution_count": null,
   "metadata": {},
   "outputs": [],
   "source": []
  }
 ],
 "metadata": {
  "kernelspec": {
   "display_name": "Python 3",
   "language": "python",
   "name": "python3"
  },
  "language_info": {
   "codemirror_mode": {
    "name": "ipython",
    "version": 3
   },
   "file_extension": ".py",
   "mimetype": "text/x-python",
   "name": "python",
   "nbconvert_exporter": "python",
   "pygments_lexer": "ipython3",
   "version": "3.7.4"
  }
 },
 "nbformat": 4,
 "nbformat_minor": 2
}
